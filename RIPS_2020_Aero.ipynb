{
  "nbformat": 4,
  "nbformat_minor": 0,
  "metadata": {
    "colab": {
      "name": "RIPS 2020 Aero ",
      "provenance": [],
      "collapsed_sections": [],
      "include_colab_link": true
    },
    "kernelspec": {
      "name": "python3",
      "display_name": "Python 3"
    }
  },
  "cells": [
    {
      "cell_type": "markdown",
      "metadata": {
        "id": "view-in-github",
        "colab_type": "text"
      },
      "source": [
        "<a href=\"https://colab.research.google.com/github/ameza98/TestPos/blob/readme-edits/RIPS_2020_Aero.ipynb\" target=\"_parent\"><img src=\"https://colab.research.google.com/assets/colab-badge.svg\" alt=\"Open In Colab\"/></a>"
      ]
    },
    {
      "cell_type": "code",
      "metadata": {
        "id": "qhILOG2vBWg-",
        "colab_type": "code",
        "colab": {}
      },
      "source": [
        "# Unless we connect to local runtime we have to install packages every time ugh\n",
        "# Just run and clear output after to start using\n",
        "# Also graph-tool is a C++ package in Python skin so you can't use pip -Christina\n",
        "!echo \"deb http://downloads.skewed.de/apt bionic main\" >> /etc/apt/sources.list\n",
        "!apt-key adv --keyserver keys.openpgp.org --recv-key 612DEFB798507F25\n",
        "!apt-get update\n",
        "!apt-get install python3-graph-tool python3-cairo python3-matplotlib\n",
        "\n",
        "# The following package is for DES\n",
        "!pip install simpy\n",
        "# NetworkX package install just in case \n",
        "!pip install NetworkX   "
      ],
      "execution_count": null,
      "outputs": []
    },
    {
      "cell_type": "markdown",
      "metadata": {
        "id": "sfr9yFnK7j3C",
        "colab_type": "text"
      },
      "source": [
        "# New Section"
      ]
    },
    {
      "cell_type": "code",
      "metadata": {
        "id": "yN9WEtobBtzD",
        "colab_type": "code",
        "colab": {}
      },
      "source": [
        "# V simple random network generator\n",
        "# See generated result in sidebar, folder icon > sample_network.pdf\n",
        "from numpy.random import randint\n",
        "from graph_tool.all import *\n",
        "g = Graph()\n",
        "node_count = 100\n",
        "edge_count = 300\n",
        "min_weight = 1\n",
        "max_weight = 10\n",
        "\n",
        "# initialize vertices\n",
        "vertex_descriptors = g.add_vertex(node_count)\n",
        "\n",
        "# the following line doesn't work since v1 can equal v2\n",
        "# for v1,v2 in zip(randint(0, 10, 30), randint(0, 10, 30)):\n",
        "\n",
        "# add random edges\n",
        "# nested loop, I'm sorry @CS professors\n",
        "for i in range(edge_count):\n",
        "  v1 = v2 = randint(0, node_count)\n",
        "  while v1 == v2:\n",
        "    v2 = randint(0, node_count)\n",
        "  g.add_edge(g.vertex(v1), g.vertex(v2))\n",
        "eweight = g.new_edge_property(\"int\")\n",
        "for e in g.edges():\n",
        "  eweight[e] = randint(min_weight, max_weight)\n",
        "graph_draw(g, vertex_text=g.vertex_index, output=\"sample_network.pdf\")\n",
        "\n",
        "#graph-tool.topology.shortest_path"
      ],
      "execution_count": null,
      "outputs": []
    },
    {
      "cell_type": "code",
      "metadata": {
        "id": "mQmg-REtBKaG",
        "colab_type": "code",
        "colab": {}
      },
      "source": [
        "#random_graph seems to be very involved, need to supply a pdf/pmf, a distribtuion and a couple other things, not worth it for our purposes imo\n",
        "# there is another tool in graph-tool which allows for the reshuffling of edges, not sure if that's something that we want to go into the direction of \n",
        "from graph_tool.generation import random_graph\n",
        "import numpy as np\n",
        "\n",
        "def sample_k(max):\n",
        "    accept = False\n",
        "    while not accept:\n",
        "        k = np.random.randint(1,max+1)\n",
        "        accept = np.random.random() < 1.0/k\n",
        "    return k\n",
        "\n",
        "g1 = random_graph(1000, lambda: sample_k(40), model=\"probabilistic-configuration\",\n",
        "                    edge_probs=lambda i, k: 1.0 / (1 + abs(i - k)), directed=False,\n",
        "                    n_iter=100)"
      ],
      "execution_count": null,
      "outputs": []
    },
    {
      "cell_type": "code",
      "metadata": {
        "id": "CIe8Modx9XFn",
        "colab_type": "code",
        "colab": {}
      },
      "source": [
        "from google.colab import drive\n",
        "drive.mount('/content/drive')"
      ],
      "execution_count": null,
      "outputs": []
    },
    {
      "cell_type": "code",
      "metadata": {
        "id": "yXdMuOySJCn0",
        "colab_type": "code",
        "colab": {}
      },
      "source": [
        ""
      ],
      "execution_count": null,
      "outputs": []
    }
    
    
    
    
    
    
  ]
}
